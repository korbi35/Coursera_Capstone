{
 "cells": [
  {
   "cell_type": "markdown",
   "metadata": {
    "collapsed": true
   },
   "source": [
    "# Introduction and Business Problem"
   ]
  },
  {
   "cell_type": "markdown",
   "metadata": {},
   "source": [
    "## Introduction\n",
    "\n",
    "* Just image you have a successful restaurant in Manhattan / New York City. Now it is time to expend your business. Therefore you want to bring your business idea to Toronto. But in which area should you open your venue?"
   ]
  },
  {
   "cell_type": "markdown",
   "metadata": {},
   "source": [
    "## Business Problem\n",
    "\n",
    "* For this project I will analysis the area of Toronto regarding:\n",
    "\n",
    "        - density of restaurants in each area\n",
    "        - areas which are known for good restaurants by counting the likes\n",
    "        - the population (Number, type [young, middle aged, old]) and income of the areas\n",
    "        - areas which has a high frequency\n",
    "        - numbers of restaurants types in each area\n",
    "        \n",
    "* After the statistical analysis I will cluster the areas based on their similarities.\n",
    "\n",
    "* Throughout those information the entrepreneur can decide which areas of Toronto suits for his type of restaurant. "
   ]
  },
  {
   "cell_type": "markdown",
   "metadata": {},
   "source": [
    "## Data Required\n",
    "\n",
    "* Foursquare API to find out more about:\n",
    "        - Venue Name\n",
    "        - Venue ID\n",
    "        - Venue Location\n",
    "        - Venue Category\n",
    "        - Count of Likes\n",
    "  \n",
    "* Dataset of the demography to find out more about:\n",
    "        - population \n",
    "        - income"
   ]
  },
  {
   "cell_type": "markdown",
   "metadata": {},
   "source": [
    "## Data Acquisition Approach\n",
    "\n",
    "* Using geolocator to get lat and long coordinates of Toronto\n",
    "* Using Foursqure API for restaurant information in each area\n",
    "* Using opensource dataset of demography to gain knowledge of population and income (https://open.toronto.ca/dataset/wellbeing-toronto-demographics/)\n"
   ]
  },
  {
   "cell_type": "markdown",
   "metadata": {},
   "source": [
    "## Data Usage Approach - Clustering\n",
    "\n",
    "* Statistical analysis for data wrangling \n",
    "* kMeans Cluster algorithm that groups areas into cluster to find easily the area which suits your restaurant idea. \n",
    "\n",
    "Per Example if you have a high class restaurant, you probably look for areas which has a big income and a more older population. Still you would like to be in a area which has a high frequency and are known for good restaurants. Elsewise, if you want to open a fast food pizza place you might look for an area which has a high population of young people."
   ]
  }
 ],
 "metadata": {
  "kernelspec": {
   "display_name": "Python 3.6",
   "language": "python",
   "name": "python3"
  },
  "language_info": {
   "codemirror_mode": {
    "name": "ipython",
    "version": 3
   },
   "file_extension": ".py",
   "mimetype": "text/x-python",
   "name": "python",
   "nbconvert_exporter": "python",
   "pygments_lexer": "ipython3",
   "version": "3.6.9"
  }
 },
 "nbformat": 4,
 "nbformat_minor": 1
}
